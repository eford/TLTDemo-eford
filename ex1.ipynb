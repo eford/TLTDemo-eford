{
 "cells": [
  {
   "cell_type": "markdown",
   "metadata": {},
   "source": [
    "# TLT Demo Lab\n",
    "This repository includes Jupyter notebooks that demonstrate a workflow for version controlling Jupyter notebooks.\n",
    "\n",
    "## The Quadratic Equation\n",
    "\n",
    "An equation of the form $ax^2 + bx + c = 0$ has two solutions given by\n",
    "$$\\frac{-b\\pm \\sqrt{b^2-4ac}}{2a}$$\n",
    "\n",
    "In order to gain better understanding of this, it is useful to consider the function $f(x) = ax^2 + bx + c$.  \n",
    "We can write a *function* `f(x)` that takes one arguement `x` and returns the value of $f(x)$ using the current values of variables $a$, $b$, and $c$."
   ]
  },
  {
   "cell_type": "code",
   "execution_count": 2,
   "metadata": {
    "ExecuteTime": {
     "end_time": "2020-06-19T02:41:40.149000-04:00",
     "start_time": "2020-06-19T06:41:39.819Z"
    }
   },
   "outputs": [
    {
     "data": {
      "text/plain": [
       "f (generic function with 1 method)"
      ]
     },
     "execution_count": 2,
     "metadata": {},
     "output_type": "execute_result"
    }
   ],
   "source": [
    "function f(x) \n",
    "   return a*x^2 + b*x + c\n",
    "end"
   ]
  },
  {
   "cell_type": "markdown",
   "metadata": {},
   "source": [
    "Now we can plot the function $f(x)$ using Julia's *Plots.jl* package."
   ]
  },
  {
   "cell_type": "code",
   "execution_count": 3,
   "metadata": {
    "ExecuteTime": {
     "end_time": "2020-06-19T02:41:54.267000-04:00",
     "start_time": "2020-06-19T06:41:41.268Z"
    }
   },
   "outputs": [],
   "source": [
    "using Plots"
   ]
  },
  {
   "cell_type": "code",
   "execution_count": 4,
   "metadata": {
    "ExecuteTime": {
     "end_time": "2020-06-19T02:41:56.262000-04:00",
     "start_time": "2020-06-19T06:41:44.017Z"
    }
   },
   "outputs": [
    {
     "data": {
      "text/plain": [
       "plot_parabola (generic function with 1 method)"
      ]
     },
     "execution_count": 4,
     "metadata": {},
     "output_type": "execute_result"
    }
   ],
   "source": [
    "function plot_parabola(a,b,c; num_points=100)\n",
    "   xmin = -b/(2a)-2\n",
    "   xmax = -b/(2a)+2\n",
    "   x = range(xmin,stop=xmax,length=num_points)\n",
    "   plot(x, map(f,x), xlimits=[xmin,xmax], xlabel=\"x\", ylabel=\"y\", legend=:none)\n",
    "end"
   ]
  },
  {
   "cell_type": "code",
   "execution_count": 5,
   "metadata": {
    "ExecuteTime": {
     "end_time": "2020-06-19T02:42:09.012000-04:00",
     "start_time": "2020-06-19T06:41:44.608Z"
    }
   },
   "outputs": [
    {
     "data": {
      "image/svg+xml": [
       "<?xml version=\"1.0\" encoding=\"utf-8\"?>\n",
       "<svg xmlns=\"http://www.w3.org/2000/svg\" xmlns:xlink=\"http://www.w3.org/1999/xlink\" width=\"600\" height=\"400\" viewBox=\"0 0 2400 1600\">\n",
       "<defs>\n",
       "  <clipPath id=\"clip950\">\n",
       "    <rect x=\"0\" y=\"0\" width=\"2400\" height=\"1600\"/>\n",
       "  </clipPath>\n",
       "</defs>\n",
       "<path clip-path=\"url(#clip950)\" d=\"\n",
       "M0 1600 L2400 1600 L2400 0 L0 0  Z\n",
       "  \" fill=\"#ffffff\" fill-rule=\"evenodd\" fill-opacity=\"1\"/>\n",
       "<defs>\n",
       "  <clipPath id=\"clip951\">\n",
       "    <rect x=\"480\" y=\"0\" width=\"1681\" height=\"1600\"/>\n",
       "  </clipPath>\n",
       "</defs>\n",
       "<path clip-path=\"url(#clip950)\" d=\"\n",
       "M174.149 1423.18 L2352.76 1423.18 L2352.76 47.2441 L174.149 47.2441  Z\n",
       "  \" fill=\"#ffffff\" fill-rule=\"evenodd\" fill-opacity=\"1\"/>\n",
       "<defs>\n",
       "  <clipPath id=\"clip952\">\n",
       "    <rect x=\"174\" y=\"47\" width=\"2180\" height=\"1377\"/>\n",
       "  </clipPath>\n",
       "</defs>\n",
       "<polyline clip-path=\"url(#clip952)\" style=\"stroke:#000000; stroke-width:2; stroke-opacity:0.1; fill:none\" points=\"\n",
       "  492.719,1423.18 492.719,47.2441 \n",
       "  \"/>\n",
       "<polyline clip-path=\"url(#clip952)\" style=\"stroke:#000000; stroke-width:2; stroke-opacity:0.1; fill:none\" points=\"\n",
       "  1006.54,1423.18 1006.54,47.2441 \n",
       "  \"/>\n",
       "<polyline clip-path=\"url(#clip952)\" style=\"stroke:#000000; stroke-width:2; stroke-opacity:0.1; fill:none\" points=\"\n",
       "  1520.36,1423.18 1520.36,47.2441 \n",
       "  \"/>\n",
       "<polyline clip-path=\"url(#clip952)\" style=\"stroke:#000000; stroke-width:2; stroke-opacity:0.1; fill:none\" points=\"\n",
       "  2034.19,1423.18 2034.19,47.2441 \n",
       "  \"/>\n",
       "<polyline clip-path=\"url(#clip952)\" style=\"stroke:#000000; stroke-width:2; stroke-opacity:0.1; fill:none\" points=\"\n",
       "  174.149,1303.23 2352.76,1303.23 \n",
       "  \"/>\n",
       "<polyline clip-path=\"url(#clip952)\" style=\"stroke:#000000; stroke-width:2; stroke-opacity:0.1; fill:none\" points=\"\n",
       "  174.149,978.688 2352.76,978.688 \n",
       "  \"/>\n",
       "<polyline clip-path=\"url(#clip952)\" style=\"stroke:#000000; stroke-width:2; stroke-opacity:0.1; fill:none\" points=\"\n",
       "  174.149,654.142 2352.76,654.142 \n",
       "  \"/>\n",
       "<polyline clip-path=\"url(#clip952)\" style=\"stroke:#000000; stroke-width:2; stroke-opacity:0.1; fill:none\" points=\"\n",
       "  174.149,329.595 2352.76,329.595 \n",
       "  \"/>\n",
       "<polyline clip-path=\"url(#clip950)\" style=\"stroke:#000000; stroke-width:4; stroke-opacity:1; fill:none\" points=\"\n",
       "  174.149,1423.18 2352.76,1423.18 \n",
       "  \"/>\n",
       "<polyline clip-path=\"url(#clip950)\" style=\"stroke:#000000; stroke-width:4; stroke-opacity:1; fill:none\" points=\"\n",
       "  174.149,1423.18 174.149,47.2441 \n",
       "  \"/>\n",
       "<polyline clip-path=\"url(#clip950)\" style=\"stroke:#000000; stroke-width:4; stroke-opacity:1; fill:none\" points=\"\n",
       "  492.719,1423.18 492.719,1406.67 \n",
       "  \"/>\n",
       "<polyline clip-path=\"url(#clip950)\" style=\"stroke:#000000; stroke-width:4; stroke-opacity:1; fill:none\" points=\"\n",
       "  1006.54,1423.18 1006.54,1406.67 \n",
       "  \"/>\n",
       "<polyline clip-path=\"url(#clip950)\" style=\"stroke:#000000; stroke-width:4; stroke-opacity:1; fill:none\" points=\"\n",
       "  1520.36,1423.18 1520.36,1406.67 \n",
       "  \"/>\n",
       "<polyline clip-path=\"url(#clip950)\" style=\"stroke:#000000; stroke-width:4; stroke-opacity:1; fill:none\" points=\"\n",
       "  2034.19,1423.18 2034.19,1406.67 \n",
       "  \"/>\n",
       "<polyline clip-path=\"url(#clip950)\" style=\"stroke:#000000; stroke-width:4; stroke-opacity:1; fill:none\" points=\"\n",
       "  174.149,1303.23 200.292,1303.23 \n",
       "  \"/>\n",
       "<polyline clip-path=\"url(#clip950)\" style=\"stroke:#000000; stroke-width:4; stroke-opacity:1; fill:none\" points=\"\n",
       "  174.149,978.688 200.292,978.688 \n",
       "  \"/>\n",
       "<polyline clip-path=\"url(#clip950)\" style=\"stroke:#000000; stroke-width:4; stroke-opacity:1; fill:none\" points=\"\n",
       "  174.149,654.142 200.292,654.142 \n",
       "  \"/>\n",
       "<polyline clip-path=\"url(#clip950)\" style=\"stroke:#000000; stroke-width:4; stroke-opacity:1; fill:none\" points=\"\n",
       "  174.149,329.595 200.292,329.595 \n",
       "  \"/>\n",
       "<path clip-path=\"url(#clip950)\" d=\"M 0 0 M492.719 1445.17 Q489.108 1445.17 487.279 1448.74 Q485.473 1452.28 485.473 1459.41 Q485.473 1466.51 487.279 1470.08 Q489.108 1473.62 492.719 1473.62 Q496.353 1473.62 498.159 1470.08 Q499.987 1466.51 499.987 1459.41 Q499.987 1452.28 498.159 1448.74 Q496.353 1445.17 492.719 1445.17 M492.719 1441.47 Q498.529 1441.47 501.585 1446.07 Q504.663 1450.66 504.663 1459.41 Q504.663 1468.13 501.585 1472.74 Q498.529 1477.32 492.719 1477.32 Q486.909 1477.32 483.83 1472.74 Q480.774 1468.13 480.774 1459.41 Q480.774 1450.66 483.83 1446.07 Q486.909 1441.47 492.719 1441.47 Z\" fill=\"#000000\" fill-rule=\"evenodd\" fill-opacity=\"1\" /><path clip-path=\"url(#clip950)\" d=\"M 0 0 M996.923 1472.72 L1004.56 1472.72 L1004.56 1446.35 L996.252 1448.02 L996.252 1443.76 L1004.52 1442.09 L1009.19 1442.09 L1009.19 1472.72 L1016.83 1472.72 L1016.83 1476.65 L996.923 1476.65 L996.923 1472.72 Z\" fill=\"#000000\" fill-rule=\"evenodd\" fill-opacity=\"1\" /><path clip-path=\"url(#clip950)\" d=\"M 0 0 M1515.02 1472.72 L1531.34 1472.72 L1531.34 1476.65 L1509.39 1476.65 L1509.39 1472.72 Q1512.05 1469.96 1516.64 1465.33 Q1521.24 1460.68 1522.42 1459.34 Q1524.67 1456.81 1525.55 1455.08 Q1526.45 1453.32 1526.45 1451.63 Q1526.45 1448.87 1524.51 1447.14 Q1522.59 1445.4 1519.48 1445.4 Q1517.28 1445.4 1514.83 1446.17 Q1512.4 1446.93 1509.62 1448.48 L1509.62 1443.76 Q1512.45 1442.62 1514.9 1442.05 Q1517.35 1441.47 1519.39 1441.47 Q1524.76 1441.47 1527.96 1444.15 Q1531.15 1446.84 1531.15 1451.33 Q1531.15 1453.46 1530.34 1455.38 Q1529.55 1457.28 1527.45 1459.87 Q1526.87 1460.54 1523.77 1463.76 Q1520.66 1466.95 1515.02 1472.72 Z\" fill=\"#000000\" fill-rule=\"evenodd\" fill-opacity=\"1\" /><path clip-path=\"url(#clip950)\" d=\"M 0 0 M2038.43 1458.02 Q2041.79 1458.74 2043.67 1461 Q2045.56 1463.27 2045.56 1466.61 Q2045.56 1471.72 2042.04 1474.52 Q2038.53 1477.32 2032.04 1477.32 Q2029.87 1477.32 2027.55 1476.88 Q2025.26 1476.47 2022.81 1475.61 L2022.81 1471.1 Q2024.75 1472.23 2027.07 1472.81 Q2029.38 1473.39 2031.91 1473.39 Q2036.3 1473.39 2038.6 1471.65 Q2040.91 1469.92 2040.91 1466.61 Q2040.91 1463.55 2038.76 1461.84 Q2036.63 1460.1 2032.81 1460.1 L2028.78 1460.1 L2028.78 1456.26 L2032.99 1456.26 Q2036.44 1456.26 2038.27 1454.89 Q2040.1 1453.5 2040.1 1450.91 Q2040.1 1448.25 2038.2 1446.84 Q2036.33 1445.4 2032.81 1445.4 Q2030.89 1445.4 2028.69 1445.82 Q2026.49 1446.24 2023.85 1447.11 L2023.85 1442.95 Q2026.51 1442.21 2028.83 1441.84 Q2031.17 1441.47 2033.23 1441.47 Q2038.55 1441.47 2041.65 1443.9 Q2044.75 1446.3 2044.75 1450.43 Q2044.75 1453.3 2043.11 1455.29 Q2041.47 1457.25 2038.43 1458.02 Z\" fill=\"#000000\" fill-rule=\"evenodd\" fill-opacity=\"1\" /><path clip-path=\"url(#clip950)\" d=\"M 0 0 M138.205 1289.03 Q134.593 1289.03 132.765 1292.6 Q130.959 1296.14 130.959 1303.27 Q130.959 1310.38 132.765 1313.94 Q134.593 1317.48 138.205 1317.48 Q141.839 1317.48 143.644 1313.94 Q145.473 1310.38 145.473 1303.27 Q145.473 1296.14 143.644 1292.6 Q141.839 1289.03 138.205 1289.03 M138.205 1285.33 Q144.015 1285.33 147.07 1289.94 Q150.149 1294.52 150.149 1303.27 Q150.149 1312 147.07 1316.6 Q144.015 1321.19 138.205 1321.19 Q132.394 1321.19 129.316 1316.6 Q126.26 1312 126.26 1303.27 Q126.26 1294.52 129.316 1289.94 Q132.394 1285.33 138.205 1285.33 Z\" fill=\"#000000\" fill-rule=\"evenodd\" fill-opacity=\"1\" /><path clip-path=\"url(#clip950)\" d=\"M 0 0 M130.242 992.033 L137.88 992.033 L137.88 965.667 L129.57 967.334 L129.57 963.075 L137.834 961.408 L142.51 961.408 L142.51 992.033 L150.149 992.033 L150.149 995.968 L130.242 995.968 L130.242 992.033 Z\" fill=\"#000000\" fill-rule=\"evenodd\" fill-opacity=\"1\" /><path clip-path=\"url(#clip950)\" d=\"M 0 0 M133.83 667.486 L150.149 667.486 L150.149 671.422 L128.205 671.422 L128.205 667.486 Q130.867 664.732 135.45 660.102 Q140.056 655.449 141.237 654.107 Q143.482 651.584 144.362 649.848 Q145.265 648.088 145.265 646.399 Q145.265 643.644 143.32 641.908 Q141.399 640.172 138.297 640.172 Q136.098 640.172 133.644 640.936 Q131.214 641.7 128.436 643.25 L128.436 638.528 Q131.26 637.394 133.714 636.815 Q136.168 636.237 138.205 636.237 Q143.575 636.237 146.769 638.922 Q149.964 641.607 149.964 646.098 Q149.964 648.227 149.154 650.149 Q148.367 652.047 146.26 654.639 Q145.681 655.311 142.58 658.528 Q139.478 661.723 133.83 667.486 Z\" fill=\"#000000\" fill-rule=\"evenodd\" fill-opacity=\"1\" /><path clip-path=\"url(#clip950)\" d=\"M 0 0 M143.019 328.241 Q146.376 328.959 148.251 331.227 Q150.149 333.496 150.149 336.829 Q150.149 341.945 146.63 344.746 Q143.112 347.547 136.63 347.547 Q134.455 347.547 132.14 347.107 Q129.848 346.69 127.394 345.834 L127.394 341.32 Q129.339 342.454 131.654 343.033 Q133.968 343.611 136.492 343.611 Q140.89 343.611 143.181 341.875 Q145.496 340.139 145.496 336.829 Q145.496 333.774 143.343 332.061 Q141.214 330.325 137.394 330.325 L133.367 330.325 L133.367 326.482 L137.58 326.482 Q141.029 326.482 142.857 325.116 Q144.686 323.727 144.686 321.135 Q144.686 318.473 142.788 317.061 Q140.913 315.626 137.394 315.626 Q135.473 315.626 133.274 316.042 Q131.075 316.459 128.436 317.338 L128.436 313.172 Q131.098 312.431 133.413 312.061 Q135.751 311.69 137.811 311.69 Q143.135 311.69 146.237 314.121 Q149.339 316.528 149.339 320.649 Q149.339 323.519 147.695 325.51 Q146.052 327.477 143.019 328.241 Z\" fill=\"#000000\" fill-rule=\"evenodd\" fill-opacity=\"1\" /><path clip-path=\"url(#clip950)\" d=\"M 0 0 M1280.07 1520.4 L1267.18 1537.74 L1280.74 1556.04 L1273.83 1556.04 L1263.45 1542.04 L1253.08 1556.04 L1246.17 1556.04 L1260.01 1537.39 L1247.35 1520.4 L1254.25 1520.4 L1263.71 1533.1 L1273.16 1520.4 L1280.07 1520.4 Z\" fill=\"#000000\" fill-rule=\"evenodd\" fill-opacity=\"1\" /><path clip-path=\"url(#clip950)\" d=\"M 0 0 M91.3143 733.525 Q97.68 736.008 99.6216 738.363 Q101.563 740.718 101.563 744.665 L101.563 749.344 L96.6615 749.344 L96.6615 745.906 Q96.6615 743.487 95.5157 742.151 Q94.3699 740.814 90.1048 739.191 L87.4312 738.14 L52.3562 752.559 L52.3562 746.352 L80.238 735.212 L52.3562 724.072 L52.3562 717.865 L91.3143 733.525 Z\" fill=\"#000000\" fill-rule=\"evenodd\" fill-opacity=\"1\" /><polyline clip-path=\"url(#clip952)\" style=\"stroke:#009af9; stroke-width:4; stroke-opacity:1; fill:none\" points=\"\n",
       "  235.808,86.1857 256.568,138.108 277.329,188.97 298.089,238.773 318.85,287.516 339.61,335.2 360.371,381.824 381.131,427.388 401.892,471.893 422.652,515.338 \n",
       "  443.413,557.723 464.173,599.049 484.934,639.315 505.694,678.522 526.455,716.668 547.215,753.756 567.976,789.783 588.736,824.751 609.497,858.659 630.257,891.508 \n",
       "  651.018,923.297 671.778,954.027 692.539,983.696 713.299,1012.31 734.06,1039.86 754.82,1066.35 775.581,1091.78 796.341,1116.15 817.102,1139.46 837.862,1161.71 \n",
       "  858.623,1182.91 879.383,1203.04 900.144,1222.11 920.904,1240.13 941.665,1257.08 962.425,1272.98 983.186,1287.81 1003.95,1301.59 1024.71,1314.3 1045.47,1325.96 \n",
       "  1066.23,1336.55 1086.99,1346.09 1107.75,1354.57 1128.51,1361.99 1149.27,1368.34 1170.03,1373.64 1190.79,1377.88 1211.55,1381.06 1232.31,1383.18 1253.07,1384.24 \n",
       "  1273.83,1384.24 1294.59,1383.18 1315.35,1381.06 1336.11,1377.88 1356.87,1373.64 1377.64,1368.34 1398.4,1361.99 1419.16,1354.57 1439.92,1346.09 1460.68,1336.55 \n",
       "  1481.44,1325.96 1502.2,1314.3 1522.96,1301.59 1543.72,1287.81 1564.48,1272.98 1585.24,1257.08 1606,1240.13 1626.76,1222.11 1647.52,1203.04 1668.28,1182.91 \n",
       "  1689.04,1161.71 1709.8,1139.46 1730.56,1116.15 1751.32,1091.78 1772.08,1066.35 1792.85,1039.86 1813.61,1012.31 1834.37,983.696 1855.13,954.027 1875.89,923.297 \n",
       "  1896.65,891.508 1917.41,858.659 1938.17,824.751 1958.93,789.783 1979.69,753.756 2000.45,716.668 2021.21,678.522 2041.97,639.315 2062.73,599.049 2083.49,557.723 \n",
       "  2104.25,515.338 2125.01,471.893 2145.77,427.388 2166.53,381.824 2187.29,335.2 2208.06,287.516 2228.82,238.773 2249.58,188.97 2270.34,138.108 2291.1,86.1857 \n",
       "  \n",
       "  \"/>\n",
       "</svg>\n"
      ]
     },
     "execution_count": 5,
     "metadata": {},
     "output_type": "execute_result"
    }
   ],
   "source": [
    "a = 1 \n",
    "b = -3\n",
    "c = 2 \n",
    "plot_parabola(a,b,c)"
   ]
  },
  {
   "cell_type": "markdown",
   "metadata": {},
   "source": [
    "**Q1**: What values of $x$ result in $f(x)=0$?  Store your answer in the variables `q1_root1` and `q1_root2`."
   ]
  },
  {
   "cell_type": "code",
   "execution_count": 10,
   "metadata": {
    "ExecuteTime": {
     "end_time": "2020-06-19T02:51:08.494000-04:00",
     "start_time": "2020-06-19T06:51:08.487Z"
    }
   },
   "outputs": [],
   "source": [
    "# TODO: Replace with your responce to question 1.\n",
    "q1_root1 = 1\n",
    "q1_root2 = 2;"
   ]
  },
  {
   "cell_type": "markdown",
   "metadata": {},
   "source": [
    "We can rewrite $f(x)$ as $$f(x) = a(x-h)^2 + k,$$\n",
    "where $h = \\frac{-b}{2a}$ is the value of $x$ that minimizes $f(x)$ and $k = ah^2+bh+c$ is the value of $f(x)$ at that minimum.  Therefore, $f(x)$ describes a parabola with its vertex at $(h,k)$.  \n",
    "\n",
    "**Q2**:  Write a function named `vertex` that takes the arguments $a$, $b$ and $c$ (in that order) and returns the vertex of the parabola stored as a named pair $(x,y)$."
   ]
  },
  {
   "cell_type": "code",
   "execution_count": 7,
   "metadata": {
    "ExecuteTime": {
     "end_time": "2020-06-19T02:42:09.193000-04:00",
     "start_time": "2020-06-19T06:41:47.344Z"
    }
   },
   "outputs": [
    {
     "data": {
      "text/plain": [
       "vertex (generic function with 1 method)"
      ]
     },
     "execution_count": 7,
     "metadata": {},
     "output_type": "execute_result"
    }
   ],
   "source": [
    "# TODO: Update code below with your responce to question 2.\n",
    "function vertex(a,b,c) \n",
    "    h = -0.5 * b/a\n",
    "    k = c + b*h + a*h^2\n",
    "    return (x=h,y=k)\n",
    "end"
   ]
  },
  {
   "cell_type": "markdown",
   "metadata": {},
   "source": [
    "Test that the result of your function matches your expectation for the function $f(x) = x^2 - 3x + 2$ based on the plot above."
   ]
  },
  {
   "cell_type": "code",
   "execution_count": 8,
   "metadata": {
    "ExecuteTime": {
     "end_time": "2020-06-19T02:42:09.559000-04:00",
     "start_time": "2020-06-19T06:41:49.312Z"
    }
   },
   "outputs": [
    {
     "data": {
      "text/plain": [
       "(x = 1.5, y = -0.25)"
      ]
     },
     "execution_count": 8,
     "metadata": {},
     "output_type": "execute_result"
    }
   ],
   "source": [
    "vertex(1,-3,2)"
   ]
  },
  {
   "cell_type": "code",
   "execution_count": null,
   "metadata": {},
   "outputs": [],
   "source": []
  }
 ],
 "metadata": {
  "kernelspec": {
   "display_name": "Julia 1.4.1",
   "language": "julia",
   "name": "julia-1.4"
  },
  "language_info": {
   "file_extension": ".jl",
   "mimetype": "application/julia",
   "name": "julia",
   "version": "1.4.1"
  },
  "toc": {
   "base_numbering": 1,
   "nav_menu": {},
   "number_sections": true,
   "sideBar": true,
   "skip_h1_title": false,
   "title_cell": "Table of Contents",
   "title_sidebar": "Contents",
   "toc_cell": false,
   "toc_position": {},
   "toc_section_display": true,
   "toc_window_display": false
  },
  "varInspector": {
   "cols": {
    "lenName": 16,
    "lenType": 16,
    "lenVar": 40
   },
   "kernels_config": {
    "python": {
     "delete_cmd_postfix": "",
     "delete_cmd_prefix": "del ",
     "library": "var_list.py",
     "varRefreshCmd": "print(var_dic_list())"
    },
    "r": {
     "delete_cmd_postfix": ") ",
     "delete_cmd_prefix": "rm(",
     "library": "var_list.r",
     "varRefreshCmd": "cat(var_dic_list()) "
    }
   },
   "types_to_exclude": [
    "module",
    "function",
    "builtin_function_or_method",
    "instance",
    "_Feature"
   ],
   "window_display": false
  }
 },
 "nbformat": 4,
 "nbformat_minor": 2
}
